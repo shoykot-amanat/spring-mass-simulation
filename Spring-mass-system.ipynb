{
 "cells": [
  {
   "cell_type": "markdown",
   "id": "9b4c0550",
   "metadata": {},
   "source": [
    "## Spring Mass System Analysis And Simulation"
   ]
  },
  {
   "cell_type": "markdown",
   "id": "f8135deb",
   "metadata": {},
   "source": [
    "In this notebook I'll model spring mass system and simulate it in python."
   ]
  },
  {
   "cell_type": "code",
   "execution_count": 1,
   "id": "e0e3c8a2",
   "metadata": {},
   "outputs": [],
   "source": [
    "# importing the libraries\n",
    "import numpy as np\n",
    "import matplotlib.pyplot as plt"
   ]
  },
  {
   "cell_type": "markdown",
   "id": "00ec1e9d",
   "metadata": {},
   "source": [
    "### Let's  Define a Function for plotting graph.\n",
    "\n",
    "Function: plot_graph(x, y, xmax_tick, xticks, ymin_tick, ymax_tick, yticks, xmin_tick=0, color='blue', linewidth=1, title='', xlabel='', ylabel='')\n",
    "\n",
    "Description:\n",
    "This function generates a simple line plot with optional specifications for various parameters such as axis ticks, colors, line width, and plot title and labels.\n",
    "\n",
    "Parameters:\n",
    "- x: Array-like. Values for the x-axis.\n",
    "- y: Array-like. Values for the y-axis.\n",
    "- xmax_tick: Numeric. Maximum value for the x-axis tick marks.\n",
    "- xticks: Numeric. Spacing between x-axis tick marks.\n",
    "- ymin_tick: Numeric. Minimum value for the y-axis tick marks.\n",
    "- ymax_tick: Numeric. Maximum value for the y-axis tick marks.\n",
    "- yticks: Numeric. Spacing between y-axis tick marks.\n",
    "- xmin_tick: Numeric. Optional. Minimum value for the x-axis tick marks. Default is 0.\n",
    "- color: String. Optional. Color of the plotted line. Default is 'blue'.\n",
    "- linewidth: Numeric. Optional. Width of the plotted line. Default is 1.\n",
    "- title: String. Optional. Title of the plot. Default is an empty string.\n",
    "- xlabel: String. Optional. Label for the x-axis. Default is an empty string.\n",
    "- ylabel: String. Optional. Label for the y-axis. Default is an empty string.\n",
    "\n",
    "Returns:\n",
    "- None. The function displays the plot using Matplotlib's pyplot.\n",
    "\n",
    "Example Usage:\n",
    "plot_graph(x_data, y_data, xmax_tick=10, xticks=1, ymin_tick=0, ymax_tick=20, yticks=2, xmin_tick=0, color='red', linewidth=2, title='Example Plot', xlabel='X-axis', ylabel='Y-axis')\n",
    "\n"
   ]
  },
  {
   "cell_type": "code",
   "execution_count": 2,
   "id": "17e1f574",
   "metadata": {},
   "outputs": [],
   "source": [
    "def plot_graph(x, y, xmax_tick, xticks, ymin_tick, ymax_tick, yticks, xmin_tick=0, color='blue', linewidth=1, title='', xlabel='', ylabel=''):\n",
    "    fig, ax = plt.subplots()\n",
    "    # Add horizontal and vertical lines at y=0 and x=0, respectively\n",
    "    ax.axhline(0, color='black', linewidth=0.5)  # Horizontal line at y=0\n",
    "    ax.axvline(0, color='black', linewidth=0.5)  # Vertical line at x=0\n",
    "    ax.plot(x, y, color=color, linewidth=linewidth)  # lineplot\n",
    "    ax.set_title(title)   # setting the title\n",
    "    ax.set_xlabel(xlabel) # setting x label \n",
    "    ax.set_ylabel(ylabel)  # setting y label\n",
    "    ax.grid(True)\n",
    "    ax.set_xticks(np.arange(xmin_tick, xmax_tick, xticks))   # setting ticks for x axis\n",
    "    ax.set_yticks(np.arange(ymin_tick, ymax_tick, yticks))   # setting ticks for y axis\n",
    "    plt.show()"
   ]
  },
  {
   "cell_type": "markdown",
   "id": "9c53278b",
   "metadata": {},
   "source": [
    "### Class: Simulation\n",
    "\n",
    "Description:\n",
    "This class simulates the motion of a mass on a spring system. It calculates and provides various attributes such as position, velocity, and acceleration over time, and facilitates plotting these attributes against time or each other.\n",
    "\n",
    "Attributes:\n",
    "- spring_constant: Numeric. Spring constant (k) of the system.\n",
    "- mass: Numeric. Mass (m) of the object attached to the spring.\n",
    "- amplitude: Numeric. Amplitude (a) of the oscillation.\n",
    "- initial_phase: Numeric. Initial phase (phi) of the oscillation.\n",
    "- simulation_time: Numeric. Total simulation time (t) for which the motion is simulated.\n",
    "- time_step: Numeric. Time step (dt) used in the simulation.\n",
    "- k: Numeric. Spring constant (k) of the system.\n",
    "- m: Numeric. Mass (m) of the object attached to the spring.\n",
    "- a: Numeric. Amplitude (a) of the oscillation.\n",
    "- phi: Numeric. Initial phase (phi) of the oscillation.\n",
    "- t: Numeric. Total simulation time (t) for which the motion is simulated.\n",
    "- dt: Numeric. Time step (dt) used in the simulation.\n",
    "- n: Numeric. Number of time steps in the simulation.\n",
    "- omega: Numeric. Angular frequency (omega) of the oscillation.\n",
    "- x: Array. Time array covering the simulation period.\n",
    "- period: Numeric. Period of oscillation (T).\n",
    "- vmax: Numeric. Maximum velocity (v_max) attained during the motion.\n",
    "- amax: Numeric. Maximum acceleration (a_max) attained during the motion.\n",
    "\n",
    "Methods:\n",
    "- calculate_position(t): Calculates the position of the mass at a specific time (t).\n",
    "- velocity_at_specific_time(t): Calculates the velocity of the mass at a specific time (t).\n",
    "- acceleration_at_specific_time(t): Calculates the acceleration of the mass at a specific time (t).\n",
    "- displacement_array(): Computes an array of positions over the simulation time.\n",
    "- velocity_array(): Computes an array of velocities over the simulation time.\n",
    "- acceleration_array(): Computes an array of accelerations over the simulation time.\n",
    "- plot_pos_time(): Plots position versus time.\n",
    "- plot_velo_time(): Plots velocity versus time.\n",
    "- plot_acc_time(): Plots acceleration versus time.\n",
    "- plot_acc_pos(): Plots acceleration versus position.\n",
    "- plot_velo_pos(): Plots velocity versus position.\n",
    "\n",
    "Usage:\n",
    "sim = Simulation(spring_constant, mass, amplitude, initial_phase, simulation_time, time_step)\n",
    "\n",
    "sim.plot_pos_time()\n",
    "\n",
    "sim.plot_velo_time()\n",
    "\n",
    "sim.plot_acc_time()\n",
    "\n",
    "sim.plot_acc_pos()\n",
    "\n",
    "sim.plot_velo_pos()\n"
   ]
  },
  {
   "cell_type": "code",
   "execution_count": 3,
   "id": "bade7dd7",
   "metadata": {},
   "outputs": [],
   "source": [
    "class Simulation:\n",
    "    def __init__(self, spring_constant, mass, amplitude, initial_phase, simulation_time, time_step):\n",
    "        self.k = spring_constant  #stiffness of spring\n",
    "        self.m = mass # mass attached to the spring\n",
    "        self.a = amplitude  #maximum displacement\n",
    "        self.phi = initial_phase  #initial phase angle\n",
    "        self.t = simulation_time  # total time for simulation\n",
    "        self.dt = time_step\n",
    "        self.n = round(self.t/self.dt)\n",
    "        self.omega = np.sqrt(self.k/self.m)    # angular frequency\n",
    "        self.x = np.arange(0, self.t, self.dt)  # time array\n",
    "        self.period = 2*np.pi/self.omega  # Time period\n",
    "        self.vmax = self.omega*self.a     # maximum velocity\n",
    "        self.amax = np.square(self.omega)*self.a  # maximum acceleration\n",
    "    \n",
    "\n",
    "\n",
    "    def calculate_position(self, t):     # calculate position at any time t\n",
    "        position = self.a*np.sin(self.omega*t + self.phi)\n",
    "        return position\n",
    "    \n",
    "    def velocity_at_spcific_time(self, t): # calculate velocity at any time t\n",
    "        velocity = self.a*self.omega*np.cos(self.omega*t + self.phi)\n",
    "        return velocity\n",
    "    \n",
    "    def acceleration_at_spcific_time(self, t):  # calculate acceleration at any time t\n",
    "        acceleration = -self.a*np.square(self.omega)*np.sin(self.omega*t + self.phi)\n",
    "        return acceleration\n",
    "    \n",
    "    \n",
    "    \n",
    "        \n",
    "    def displacement_array(self):  # position array \n",
    "        displacement = np.zeros_like(self.x)\n",
    "        for i in range(self.n):\n",
    "            displacement[i] = self.calculate_position(t=self.x[i])\n",
    "        return displacement\n",
    "            \n",
    "        \n",
    "    def velocity_array(self):\n",
    "        velocity = np.zeros_like(self.x)\n",
    "        for i in range(self.n):\n",
    "            velocity[i] = self.velocity_at_spcific_time(t=self.x[i])\n",
    "        return velocity\n",
    "    \n",
    "    def acceleration_array(self):\n",
    "        acceleration = np.zeros_like(self.x)\n",
    "        for i in range(self.n):\n",
    "            acceleration[i] = self.acceleration_at_spcific_time(t=self.x[i])\n",
    "        return acceleration\n",
    "    \n",
    "    \n",
    "    def plot_pos_time(self, color='blue', linewidth=1):\n",
    "        plot_graph(x=self.x, y=self.displacement_array(), xmax_tick=self.t, xticks=self.period/4, \n",
    "                   ymin_tick=-self.a, ymax_tick=self.a, yticks= self.a/4, color=color, linewidth=linewidth,\n",
    "                   title='Position Vs Time', xlabel='Time', ylabel='position')\n",
    "        \n",
    "    def plot_velo_time(self, color='blue', linewidth=1):\n",
    "        plot_graph(x=self.x, y=self.velocity_array(), xmax_tick=self.t, xticks=self.period/4, \n",
    "                   ymin_tick=-self.vmax, ymax_tick=self.vmax, yticks= self.vmax/4, color=color, linewidth=linewidth,\n",
    "                   title='Velocity Vs Time', xlabel='Time', ylabel='Velocity')\n",
    "    \n",
    "    def plot_acc_time(self, color='blue', linewidth=1):\n",
    "        plot_graph(x=self.x, y=self.acceleration_array(), xmax_tick=self.t, xticks=self.period/4,  \n",
    "                   ymin_tick=-self.amax, ymax_tick=self.amax, yticks= self.amax/4, color=color, linewidth=linewidth,\n",
    "                   title='Acceleration Vs Time', xlabel='Time', ylabel='Acceleration')\n",
    "        \n",
    "    def plot_acc_pos(self, color='blue', linewidth=1):\n",
    "        plot_graph(x=self.displacement_array(), y=self.acceleration_array(),xmin_tick=-self.a, xmax_tick=self.a, xticks=self.a/2, \n",
    "                   ymin_tick=-self.amax, ymax_tick=self.amax, yticks= self.amax/4, color=color, linewidth=linewidth,\n",
    "                   title='Acceleration Vs Position', xlabel='Position', ylabel='Acceleration')\n",
    "        \n",
    "    def plot_velo_pos(self, color='blue', linewidth=1):\n",
    "        plot_graph(x=self.displacement_array(), y=self.velocity_array(),xmin_tick=-self.a, xmax_tick=self.a, xticks=self.a/2, \n",
    "                   ymin_tick=-self.vmax, ymax_tick=self.vmax, yticks= self.vmax/4, color=color, linewidth=linewidth,\n",
    "                   title='Velocity Vs Position', xlabel='Position', ylabel='Velocity')\n",
    "        \n",
    "        "
   ]
  },
  {
   "cell_type": "code",
   "execution_count": null,
   "id": "38ed233f",
   "metadata": {},
   "outputs": [],
   "source": [
    "xmin_tick=-self.a, xmax_tick=self.a, xticks=self.a/2,"
   ]
  },
  {
   "cell_type": "code",
   "execution_count": null,
   "id": "3527151f",
   "metadata": {},
   "outputs": [],
   "source": [
    "sim_1 = Simulation(spring_constant=50, mass=1, amplitude=0.5, initial_phase=0,simulation_time=4, time_step=0.01)"
   ]
  },
  {
   "cell_type": "code",
   "execution_count": null,
   "id": "5e77d04d",
   "metadata": {},
   "outputs": [],
   "source": [
    "sim_1.plot_pos_time()"
   ]
  },
  {
   "cell_type": "code",
   "execution_count": null,
   "id": "bd466bb2",
   "metadata": {},
   "outputs": [],
   "source": [
    "sim_1.plot_acc_time(color='red')"
   ]
  },
  {
   "cell_type": "code",
   "execution_count": null,
   "id": "04f3784f",
   "metadata": {},
   "outputs": [],
   "source": [
    "sim_1.plot_pos_time(color='blue')"
   ]
  },
  {
   "cell_type": "code",
   "execution_count": null,
   "id": "3abc7add",
   "metadata": {},
   "outputs": [],
   "source": [
    "sim_1.vmax"
   ]
  },
  {
   "cell_type": "code",
   "execution_count": null,
   "id": "c63e2037",
   "metadata": {},
   "outputs": [],
   "source": [
    "sim_1.plot_velo_pos()"
   ]
  },
  {
   "cell_type": "code",
   "execution_count": null,
   "id": "642a7c6d",
   "metadata": {},
   "outputs": [],
   "source": [
    "sim_1.plot_acc_pos()"
   ]
  },
  {
   "cell_type": "code",
   "execution_count": null,
   "id": "a6adc909",
   "metadata": {},
   "outputs": [],
   "source": []
  }
 ],
 "metadata": {
  "kernelspec": {
   "display_name": "Python 3 (ipykernel)",
   "language": "python",
   "name": "python3"
  },
  "language_info": {
   "codemirror_mode": {
    "name": "ipython",
    "version": 3
   },
   "file_extension": ".py",
   "mimetype": "text/x-python",
   "name": "python",
   "nbconvert_exporter": "python",
   "pygments_lexer": "ipython3",
   "version": "3.11.5"
  }
 },
 "nbformat": 4,
 "nbformat_minor": 5
}
